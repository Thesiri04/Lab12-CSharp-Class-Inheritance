{
 "cells": [
  {
   "cell_type": "markdown",
   "metadata": {},
   "source": [
    "# Lab 12 Class Inheritance"
   ]
  },
  {
   "cell_type": "markdown",
   "metadata": {},
   "source": [
    "ในการทดลองนี้ จะได้ศึกษาลำดับของการทำงานของคลาสในการสืบทอดสมบัติ\n",
    "\n",
    "โดยให้คอนสตรักเตอร์ของคลาสแต่ละระดับทำหน้าที่แสดงข้อความออกมาตามบลำดับการสร้าง object\n"
   ]
  },
  {
   "cell_type": "markdown",
   "metadata": {},
   "source": [
    "## แผนผังการสืบทอดสมบัติของคลาส"
   ]
  },
  {
   "cell_type": "code",
   "execution_count": null,
   "metadata": {
    "dotnet_interactive": {
     "language": "mermaid"
    },
    "polyglot_notebook": {
     "kernelName": "mermaid"
    }
   },
   "outputs": [
    {
     "data": {
      "text/html": [
       "<div class=\"mermaidMarkdownContainer\" style=\"background-color:white\">\r\n",
       "<link rel=\"stylesheet\" href=\"https://cdnjs.cloudflare.com/ajax/libs/font-awesome/6.2.0/css/all.min.css\">\r\n",
       "<div id=\"16596125f35d4b698e6d17e27cadf03d\"></div>\r\n",
       "<script type=\"module\">\r\n",
       "\r\n",
       "            import mermaid from 'https://cdn.jsdelivr.net/npm/mermaid@10.6.1/dist/mermaid.esm.min.mjs';\r\n",
       "            let renderTarget = document.getElementById('16596125f35d4b698e6d17e27cadf03d');\r\n",
       "            try {\r\n",
       "                const {svg, bindFunctions} = await mermaid.mermaidAPI.render( \r\n",
       "                    'mermaid_16596125f35d4b698e6d17e27cadf03d', \r\n",
       "                    `classDiagram\r\n",
       "    class BaseClass1\r\n",
       "    class BaseClass2\r\n",
       "    class DerivedClass\r\n",
       "\r\n",
       "    BaseClass2 <|-- DerivedClass\r\n",
       "    `);\r\n",
       "                renderTarget.innerHTML = svg;\r\n",
       "                bindFunctions?.(renderTarget);\r\n",
       "            }\r\n",
       "            catch (error) {\r\n",
       "                console.log(error);\r\n",
       "            }\r\n",
       "</script>\r\n",
       "</div>\r\n"
      ]
     },
     "metadata": {},
     "output_type": "display_data"
    }
   ],
   "source": [
    "classDiagram\n",
    "    class BaseClass1\n",
    "    class BaseClass2\n",
    "    class DerivedClass\n",
    "\n",
    "    BaseClass2 <|-- DerivedClass\n",
    "    "
   ]
  },
  {
   "cell_type": "markdown",
   "metadata": {},
   "source": [
    "จากแผนภาพคลาสไดอะแกรมด้านบน เราสามารถนำมาเขียนโปรแกรมในภาษา C# ได้ดังนี้"
   ]
  },
  {
   "cell_type": "markdown",
   "metadata": {},
   "source": [
    "1. สร้าง console application project\n",
    "\n",
    "```cmd\n",
    "dotnet new console --name Lab12_Ex04\n",
    "```"
   ]
  },
  {
   "cell_type": "markdown",
   "metadata": {},
   "source": [
    "2.เปลี่ยน code ให้เป็นดังต่อไปนี้\n",
    "\n",
    "```csharp\n",
    "DerivedClass dc = new DerivedClass();\n",
    "class BaseClass1\n",
    " {\n",
    "    public BaseClass1()\n",
    "    {\n",
    "        System.Console.WriteLine(\"This is BaseClass1\");\n",
    "    }\n",
    " }\n",
    "class BaseClass2\n",
    " {\n",
    "    public BaseClass2()\n",
    "    {\n",
    "        System.Console.WriteLine(\"This is BaseClass2\");\n",
    "    }\n",
    " }\n",
    "\n",
    "class DerivedClass : BaseClass2\n",
    "{\n",
    "    public DerivedClass()\n",
    "    {\n",
    "        System.Console.WriteLine(\"This is DerivedClass\");\n",
    "    }\n",
    "}\n",
    "```\n",
    "\n"
   ]
  },
  {
   "cell_type": "markdown",
   "metadata": {},
   "source": [
    "3.Build project โดยการใช้คำสั่ง\n",
    "\n",
    "```cmd\n",
    "dotnet build  Lab12_Ex04\n",
    "```\n",
    "\n",
    "ถ้ามีที่ผิดพลาดในโปรแกรม ให้แก้ไขให้ถูกต้อง\n",
    "\n"
   ]
  },
  {
   "cell_type": "markdown",
   "metadata": {},
   "source": [
    "4.บันทึกผลที่ได้จากการรันคำสั่งในข้อ 3\n",
    "\n"
   ]
  },
  {
   "attachments": {
    "image.png": {
     "image/png": "[encoded data removed]"
    }
   },
   "cell_type": "markdown",
   "metadata": {},
   "source": [
    "![image.png](attachment:image.png)"
   ]
  },
  {
   "cell_type": "markdown",
   "metadata": {},
   "source": [
    "5.Run project โดยการใช้คำสั่ง\n",
    "\n",
    "```cmd\n",
    "dotnet run --project Lab12_Ex04\n",
    "```\n",
    "\n"
   ]
  },
  {
   "cell_type": "markdown",
   "metadata": {},
   "source": [
    "6.บันทึกผลที่ได้จากการรันคำสั่งในข้อ 5\n",
    "\n"
   ]
  },
  {
   "attachments": {
    "image.png": {
     "image/png": "[encoded data removed]"
    }
   },
   "cell_type": "markdown",
   "metadata": {},
   "source": [
    "![image.png](attachment:image.png)"
   ]
  },
  {
   "cell_type": "markdown",
   "metadata": {},
   "source": [
    "7.อธิบายสิ่งที่พบในการทดลอง"
   ]
  },
  {
   "cell_type": "markdown",
   "metadata": {},
   "source": [
    "- BaseClass1 และ BaseClass2 เป็นคลาสปกติที่มี constructor ซึ่งพิมพ์ข้อความออกมา\n",
    "- DerivedClass สืบทอดจาก BaseClass2 (ไม่เกี่ยวกับ BaseClass1)\n",
    "- เมื่อลงมือสร้าง DerivedClass dc = new DerivedClass(); จะทำให้ constructor ของ BaseClass2 ทำงานก่อน จากนั้น DerivedClass จึงทำงาน"
   ]
  },
  {
   "cell_type": "markdown",
   "metadata": {},
   "source": [
    "## คำถาม"
   ]
  },
  {
   "cell_type": "markdown",
   "metadata": {},
   "source": [
    "1. การที่มีคลาส BaseClass1 อยู่ใน source code นั้นมีผลใดๆ ต่อการทำงานของโปรแกรมหรือไม่"
   ]
  },
  {
   "cell_type": "markdown",
   "metadata": {},
   "source": [
    "- ไม่มีผล ต่อการทำงานของโปรแกรม เพราะ DerivedClass ไม่ได้สืบทอดจาก BaseClass1"
   ]
  },
  {
   "cell_type": "markdown",
   "metadata": {},
   "source": [
    "2. ให้บอกลำดับการทำงานของคลาส ว่า constructor มีลำดับการเรียกอย่างไร (เรียก base class หรือ derive class ก่่อน)"
   ]
  },
  {
   "cell_type": "markdown",
   "metadata": {},
   "source": [
    "- เมื่อสร้าง DerivedClass dc = new DerivedClass(); ลำดับการทำงานเป็นดังนี้\n",
    "1. Constructor ของ BaseClass2 ทำงานก่อน → \"This is BaseClass2\"\n",
    "2. Constructor ของ DerivedClass ทำงานทีหลัง → \"This is DerivedClass\""
   ]
  }
 ],
 "metadata": {
  "kernelspec": {
   "display_name": ".NET (C#)",
   "language": "C#",
   "name": ".net-csharp"
  },
  "polyglot_notebook": {
   "kernelInfo": {
    "defaultKernelName": "csharp",
    "items": [
     {
      "aliases": [],
      "languageName": "csharp",
      "name": "csharp"
     }
    ]
   }
  }
 },
 "nbformat": 4,
 "nbformat_minor": 2
}
